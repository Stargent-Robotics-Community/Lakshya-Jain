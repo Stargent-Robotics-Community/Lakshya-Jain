{
 "cells": [
  {
   "cell_type": "code",
   "execution_count": 1,
   "id": "bc1de2f4",
   "metadata": {},
   "outputs": [
    {
     "name": "stdout",
     "output_type": "stream",
     "text": [
      "avengers\n",
      "msdhoni\n",
      "godzilla\n",
      "kingkong\n"
     ]
    }
   ],
   "source": [
    "mylist = ['avengers','msdhoni','godzilla','kingkong']\n",
    "for movie in mylist:\n",
    "    print(movie)"
   ]
  },
  {
   "cell_type": "code",
   "execution_count": 2,
   "id": "6296c0e0",
   "metadata": {},
   "outputs": [
    {
     "data": {
      "text/plain": [
       "list"
      ]
     },
     "execution_count": 2,
     "metadata": {},
     "output_type": "execute_result"
    }
   ],
   "source": [
    "type(mylist)"
   ]
  },
  {
   "cell_type": "code",
   "execution_count": 3,
   "id": "ed69ed86",
   "metadata": {},
   "outputs": [
    {
     "name": "stdout",
     "output_type": "stream",
     "text": [
      "enter 2 favourite movies or yours\n",
      "golmal\n",
      "lakshya\n",
      "['avengers', 'msdhoni', 'godzilla', 'kingkong', 'golmal', 'lakshya']\n"
     ]
    }
   ],
   "source": [
    "print('enter 2 favourite movies or yours')\n",
    "a = input()\n",
    "b = input()\n",
    "mylist.append(a)\n",
    "mylist.append(b)\n",
    "print(mylist)"
   ]
  },
  {
   "cell_type": "code",
   "execution_count": 4,
   "id": "ab68fdf6",
   "metadata": {},
   "outputs": [
    {
     "name": "stdout",
     "output_type": "stream",
     "text": [
      "['msdhoni', 'kingkong', 'lakshya']\n"
     ]
    }
   ],
   "source": [
    "print(mylist[1:6:2])"
   ]
  },
  {
   "cell_type": "code",
   "execution_count": 5,
   "id": "471aa020",
   "metadata": {},
   "outputs": [
    {
     "name": "stdout",
     "output_type": "stream",
     "text": [
      "12\n",
      "16\n",
      "22\n",
      "30\n",
      "35\n"
     ]
    }
   ],
   "source": [
    "total = 0\n",
    "i = 0\n",
    "mylist = [12, 4, 6, 8, 5]\n",
    "while(i < len(mylist)):\n",
    "    total= total + mylist[i]\n",
    "    i += 1\n",
    "    \n",
    "    print( total)"
   ]
  },
  {
   "cell_type": "code",
   "execution_count": 6,
   "id": "57a0c72c",
   "metadata": {},
   "outputs": [
    {
     "name": "stdout",
     "output_type": "stream",
     "text": [
      "enter the number of rows.5\n",
      "1\n",
      "12\n",
      "123\n",
      "1234\n",
      "12345\n"
     ]
    }
   ],
   "source": [
    "rows = int(input(\"enter the number of rows.\"))\n",
    "for i in range (1,rows+1):\n",
    "    for j in range (1,i+1):\n",
    "        print(j,end='')\n",
    "    print(\"\")"
   ]
  },
  {
   "cell_type": "code",
   "execution_count": null,
   "id": "1691f465",
   "metadata": {},
   "outputs": [],
   "source": []
  }
 ],
 "metadata": {
  "kernelspec": {
   "display_name": "Python 3",
   "language": "python",
   "name": "python3"
  },
  "language_info": {
   "codemirror_mode": {
    "name": "ipython",
    "version": 3
   },
   "file_extension": ".py",
   "mimetype": "text/x-python",
   "name": "python",
   "nbconvert_exporter": "python",
   "pygments_lexer": "ipython3",
   "version": "3.8.8"
  }
 },
 "nbformat": 4,
 "nbformat_minor": 5
}
